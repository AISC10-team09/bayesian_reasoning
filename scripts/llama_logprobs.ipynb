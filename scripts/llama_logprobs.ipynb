{
 "cells": [
  {
   "cell_type": "code",
   "execution_count": 1,
   "metadata": {},
   "outputs": [
    {
     "name": "stdout",
     "output_type": "stream",
     "text": [
      "Warning: vLLM library not found. VLLMInterface will not be functional.\n"
     ]
    },
    {
     "name": "stderr",
     "output_type": "stream",
     "text": [
      "Processing models:   0%|          | 0/1 [00:00<?, ?it/s]"
     ]
    },
    {
     "data": {
      "application/vnd.jupyter.widget-view+json": {
       "model_id": "83db2921eeb64c71851ee9bcfedf4341",
       "version_major": 2,
       "version_minor": 0
      },
      "text/plain": [
       "tokenizer_config.json:   0%|          | 0.00/50.5k [00:00<?, ?B/s]"
      ]
     },
     "metadata": {},
     "output_type": "display_data"
    },
    {
     "data": {
      "application/vnd.jupyter.widget-view+json": {
       "model_id": "d3c70545c2a44f928788f05a41a40d10",
       "version_major": 2,
       "version_minor": 0
      },
      "text/plain": [
       "tokenizer.json:   0%|          | 0.00/9.09M [00:00<?, ?B/s]"
      ]
     },
     "metadata": {},
     "output_type": "display_data"
    },
    {
     "data": {
      "application/vnd.jupyter.widget-view+json": {
       "model_id": "6e1f9ff34e304daf917a6897d05d1851",
       "version_major": 2,
       "version_minor": 0
      },
      "text/plain": [
       "special_tokens_map.json:   0%|          | 0.00/73.0 [00:00<?, ?B/s]"
      ]
     },
     "metadata": {},
     "output_type": "display_data"
    },
    {
     "name": "stdout",
     "output_type": "stream",
     "text": [
      "Warning: Tokenizer for meta-llama/Llama-3.1-8B lacks a pad token. Using EOS token (<|end_of_text|>) for padding.\n"
     ]
    },
    {
     "data": {
      "application/vnd.jupyter.widget-view+json": {
       "model_id": "0ad886fdc982479082f9b329a6e5e76b",
       "version_major": 2,
       "version_minor": 0
      },
      "text/plain": [
       "config.json:   0%|          | 0.00/826 [00:00<?, ?B/s]"
      ]
     },
     "metadata": {},
     "output_type": "display_data"
    },
    {
     "data": {
      "application/vnd.jupyter.widget-view+json": {
       "model_id": "e572406084224048b8ee4bd78831c9c3",
       "version_major": 2,
       "version_minor": 0
      },
      "text/plain": [
       "model.safetensors.index.json:   0%|          | 0.00/23.9k [00:00<?, ?B/s]"
      ]
     },
     "metadata": {},
     "output_type": "display_data"
    },
    {
     "data": {
      "application/vnd.jupyter.widget-view+json": {
       "model_id": "65fdc9d4318c47dea7113aa5ad7dca5c",
       "version_major": 2,
       "version_minor": 0
      },
      "text/plain": [
       "Downloading shards:   0%|          | 0/4 [00:00<?, ?it/s]"
      ]
     },
     "metadata": {},
     "output_type": "display_data"
    },
    {
     "data": {
      "application/vnd.jupyter.widget-view+json": {
       "model_id": "d6d79af0c51c43ed95559de920c2c56d",
       "version_major": 2,
       "version_minor": 0
      },
      "text/plain": [
       "model-00001-of-00004.safetensors:   0%|          | 0.00/4.98G [00:00<?, ?B/s]"
      ]
     },
     "metadata": {},
     "output_type": "display_data"
    },
    {
     "data": {
      "application/vnd.jupyter.widget-view+json": {
       "model_id": "37647a28aa1b418792f23d924ffb9be5",
       "version_major": 2,
       "version_minor": 0
      },
      "text/plain": [
       "model-00002-of-00004.safetensors:   0%|          | 0.00/5.00G [00:00<?, ?B/s]"
      ]
     },
     "metadata": {},
     "output_type": "display_data"
    },
    {
     "data": {
      "application/vnd.jupyter.widget-view+json": {
       "model_id": "c412a58cea7044ae8941d7ac04d8dd35",
       "version_major": 2,
       "version_minor": 0
      },
      "text/plain": [
       "model-00003-of-00004.safetensors:   0%|          | 0.00/4.92G [00:00<?, ?B/s]"
      ]
     },
     "metadata": {},
     "output_type": "display_data"
    },
    {
     "data": {
      "application/vnd.jupyter.widget-view+json": {
       "model_id": "4828014adb074a3d930b9fb0865869eb",
       "version_major": 2,
       "version_minor": 0
      },
      "text/plain": [
       "model-00004-of-00004.safetensors:   0%|          | 0.00/1.17G [00:00<?, ?B/s]"
      ]
     },
     "metadata": {},
     "output_type": "display_data"
    },
    {
     "data": {
      "application/vnd.jupyter.widget-view+json": {
       "model_id": "bccc2e38ac6b48f78b7e68832f9e3589",
       "version_major": 2,
       "version_minor": 0
      },
      "text/plain": [
       "Loading checkpoint shards:   0%|          | 0/4 [00:00<?, ?it/s]"
      ]
     },
     "metadata": {},
     "output_type": "display_data"
    },
    {
     "data": {
      "application/vnd.jupyter.widget-view+json": {
       "model_id": "bf72cee5f15b4df4bdbd75e9e0260a6a",
       "version_major": 2,
       "version_minor": 0
      },
      "text/plain": [
       "generation_config.json:   0%|          | 0.00/185 [00:00<?, ?B/s]"
      ]
     },
     "metadata": {},
     "output_type": "display_data"
    },
    {
     "name": "stderr",
     "output_type": "stream",
     "text": [
      "Processing batches: 100%|██████████| 24/24 [00:13<00:00,  1.72it/s]\n",
      "Processing models: 100%|██████████| 1/1 [01:39<00:00, 99.99s/it]\n"
     ]
    }
   ],
   "source": [
    "from src.logprobs import collect_logprobs\n",
    "\n",
    "try:\n",
    "    collect_logprobs(\n",
    "        \"data/data.json\",\n",
    "        models=[\n",
    "            \"meta-llama/Llama-3.1-8B\",\n",
    "        ],\n",
    "        model_params=[\n",
    "            {\"batch_size\": 32},\n",
    "        ],\n",
    "        model_provider=\"hf\",\n",
    "        param_mapping_strategy=\"combinations\",\n",
    "        save_results=True,\n",
    "        save_path=\"data/logprobs.csv\",\n",
    "        verbose=False,\n",
    "    )\n",
    "except Exception as e:\n",
    "    print(e)"
   ]
  },
  {
   "cell_type": "code",
   "execution_count": 2,
   "metadata": {},
   "outputs": [
    {
     "name": "stderr",
     "output_type": "stream",
     "text": [
      "Processing models:   0%|          | 0/2 [00:00<?, ?it/s]"
     ]
    },
    {
     "name": "stdout",
     "output_type": "stream",
     "text": [
      "Warning: Tokenizer for meta-llama/Llama-3.2-3B lacks a pad token. Using EOS token (<|end_of_text|>) for padding.\n"
     ]
    },
    {
     "data": {
      "application/vnd.jupyter.widget-view+json": {
       "model_id": "e426b8894001442695b93a48ab2ddcec",
       "version_major": 2,
       "version_minor": 0
      },
      "text/plain": [
       "Loading checkpoint shards:   0%|          | 0/2 [00:00<?, ?it/s]"
      ]
     },
     "metadata": {},
     "output_type": "display_data"
    },
    {
     "name": "stderr",
     "output_type": "stream",
     "text": [
      "Processing batches: 100%|██████████| 12/12 [00:06<00:00,  1.93it/s]\n",
      "Processing models:  50%|█████     | 1/2 [00:28<00:28, 28.06s/it]"
     ]
    },
    {
     "name": "stdout",
     "output_type": "stream",
     "text": [
      "Warning: Tokenizer for meta-llama/Llama-3.2-1B lacks a pad token. Using EOS token (<|end_of_text|>) for padding.\n"
     ]
    },
    {
     "name": "stderr",
     "output_type": "stream",
     "text": [
      "Processing batches: 100%|██████████| 12/12 [00:02<00:00,  4.90it/s]\n",
      "Processing models: 100%|██████████| 2/2 [00:40<00:00, 20.32s/it]\n"
     ]
    }
   ],
   "source": [
    "from src.logprobs import collect_logprobs\n",
    "\n",
    "try:\n",
    "    collect_logprobs(\n",
    "        \"data/data.json\",\n",
    "        models=[\n",
    "            \"meta-llama/Llama-3.2-3B\",\n",
    "            \"meta-llama/Llama-3.2-1B\",\n",
    "        ],\n",
    "        model_params=[\n",
    "            {\"batch_size\": 64},\n",
    "        ],\n",
    "        model_provider=\"hf\",\n",
    "        param_mapping_strategy=\"combinations\",\n",
    "        save_results=True,\n",
    "        save_path=\"data/logprobs.csv\",\n",
    "        verbose=False,\n",
    "    )\n",
    "except Exception as e:\n",
    "    print(e)"
   ]
  },
  {
   "cell_type": "code",
   "execution_count": 3,
   "metadata": {},
   "outputs": [
    {
     "name": "stderr",
     "output_type": "stream",
     "text": [
      "Processing models:   0%|          | 0/4 [00:00<?, ?it/s]"
     ]
    },
    {
     "name": "stdout",
     "output_type": "stream",
     "text": [
      "Warning: Tokenizer for openai-community/gpt2 lacks a pad token. Using EOS token (<|endoftext|>) for padding.\n"
     ]
    },
    {
     "name": "stderr",
     "output_type": "stream",
     "text": [
      "Processing batches: 100%|██████████| 12/12 [00:00<00:00, 34.44it/s]\n",
      "Processing models:  25%|██▌       | 1/4 [00:03<00:10,  3.59s/it]"
     ]
    },
    {
     "name": "stdout",
     "output_type": "stream",
     "text": [
      "Warning: Tokenizer for openai-community/gpt2-medium lacks a pad token. Using EOS token (<|endoftext|>) for padding.\n"
     ]
    },
    {
     "name": "stderr",
     "output_type": "stream",
     "text": [
      "Processing batches: 100%|██████████| 12/12 [00:00<00:00, 14.80it/s]\n",
      "Processing models:  50%|█████     | 2/4 [00:10<00:11,  5.58s/it]"
     ]
    },
    {
     "name": "stdout",
     "output_type": "stream",
     "text": [
      "Warning: Tokenizer for openai-community/gpt2-large lacks a pad token. Using EOS token (<|endoftext|>) for padding.\n"
     ]
    },
    {
     "name": "stderr",
     "output_type": "stream",
     "text": [
      "Processing batches: 100%|██████████| 12/12 [00:02<00:00,  4.64it/s]\n",
      "Processing models:  75%|███████▌  | 3/4 [00:25<00:09,  9.78s/it]"
     ]
    },
    {
     "name": "stdout",
     "output_type": "stream",
     "text": [
      "Warning: Tokenizer for openai-community/gpt2-xl lacks a pad token. Using EOS token (<|endoftext|>) for padding.\n"
     ]
    },
    {
     "name": "stderr",
     "output_type": "stream",
     "text": [
      "Processing batches: 100%|██████████| 12/12 [00:03<00:00,  3.56it/s]\n",
      "Processing models: 100%|██████████| 4/4 [00:46<00:00, 11.63s/it]\n"
     ]
    }
   ],
   "source": [
    "from src.logprobs import collect_logprobs\n",
    "\n",
    "try:\n",
    "    collect_logprobs(\n",
    "        \"data/data.json\",\n",
    "        models=[\n",
    "            \"openai-community/gpt2\",\n",
    "            \"openai-community/gpt2-medium\",\n",
    "            \"openai-community/gpt2-large\",\n",
    "            \"openai-community/gpt2-xl\",\n",
    "        ],\n",
    "        model_params=[\n",
    "            {\"batch_size\": 64},\n",
    "        ],\n",
    "        model_provider=\"hf\",\n",
    "        param_mapping_strategy=\"combinations\",\n",
    "        save_results=True,\n",
    "        save_path=\"data/logprobs.csv\",\n",
    "        verbose=False,\n",
    "    )\n",
    "except Exception as e:\n",
    "    print(e)"
   ]
  },
  {
   "cell_type": "code",
   "execution_count": null,
   "metadata": {},
   "outputs": [
    {
     "name": "stderr",
     "output_type": "stream",
     "text": [
      "Processing models:   0%|          | 0/1 [00:00<?, ?it/s]"
     ]
    },
    {
     "name": "stdout",
     "output_type": "stream",
     "text": [
      "Warning: Tokenizer for meta-llama/Llama-3.1-70B lacks a pad token. Using EOS token (<|end_of_text|>) for padding.\n"
     ]
    },
    {
     "data": {
      "application/vnd.jupyter.widget-view+json": {
       "model_id": "8aca62155920444dbd2066985a7f946a",
       "version_major": 2,
       "version_minor": 0
      },
      "text/plain": [
       "Loading checkpoint shards:   0%|          | 0/30 [00:00<?, ?it/s]"
      ]
     },
     "metadata": {},
     "output_type": "display_data"
    }
   ],
   "source": [
    "from src.logprobs import collect_logprobs\n",
    "\n",
    "try:\n",
    "    collect_logprobs(\n",
    "        \"data/data.json\",\n",
    "        models=[\n",
    "            \"meta-llama/Llama-3.1-70B\",\n",
    "        ],\n",
    "        model_params=[\n",
    "            {\"batch_size\": 8},\n",
    "        ],\n",
    "        model_provider=\"hf\",\n",
    "        param_mapping_strategy=\"combinations\",\n",
    "        save_results=True,\n",
    "        save_path=\"data/logprobs.csv\",\n",
    "        verbose=False,\n",
    "    )\n",
    "except Exception as e:\n",
    "    print(e)"
   ]
  }
 ],
 "metadata": {
  "kernelspec": {
   "display_name": "Python 3",
   "language": "python",
   "name": "python3"
  },
  "language_info": {
   "codemirror_mode": {
    "name": "ipython",
    "version": 3
   },
   "file_extension": ".py",
   "mimetype": "text/x-python",
   "name": "python",
   "nbconvert_exporter": "python",
   "pygments_lexer": "ipython3",
   "version": "3.11.10"
  }
 },
 "nbformat": 4,
 "nbformat_minor": 2
}
