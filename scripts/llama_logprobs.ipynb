{
 "cells": [
  {
   "cell_type": "code",
   "execution_count": 1,
   "metadata": {},
   "outputs": [
    {
     "name": "stdout",
     "output_type": "stream",
     "text": [
      "Warning: vLLM library not found. VLLMInterface will not be functional.\n"
     ]
    },
    {
     "name": "stderr",
     "output_type": "stream",
     "text": [
      "Processing models:   0%|          | 0/1 [00:00<?, ?it/s]"
     ]
    },
    {
     "name": "stdout",
     "output_type": "stream",
     "text": [
      "Warning: Tokenizer for meta-llama/Llama-3.1-70B lacks a pad token. Using EOS token (<|end_of_text|>) for padding.\n"
     ]
    },
    {
     "data": {
      "application/vnd.jupyter.widget-view+json": {
       "model_id": "16dfabaae5cb4c2b8ee92a98309c1c58",
       "version_major": 2,
       "version_minor": 0
      },
      "text/plain": [
       "Downloading shards:   0%|          | 0/30 [00:00<?, ?it/s]"
      ]
     },
     "metadata": {},
     "output_type": "display_data"
    },
    {
     "name": "stderr",
     "output_type": "stream",
     "text": [
      "Processing models: 100%|██████████| 1/1 [00:01<00:00,  1.87s/it]"
     ]
    },
    {
     "name": "stdout",
     "output_type": "stream",
     "text": [
      "Error loading model meta-llama/Llama-3.1-70B: There was a specific connection error when trying to load meta-llama/Llama-3.1-70B:\n",
      "401 Client Error: Unauthorized for url: https://huggingface.co/meta-llama/Llama-3.1-70B/resolve/main/model-00022-of-00030.safetensors (Request ID: Root=1-6803adab-654994f06cb465275fa0907a;40e5bbbe-2746-419e-8f41-e8c2012f4081)\n",
      "\n",
      "Invalid credentials in Authorization header\n",
      "Error loading model meta-llama/Llama-3.1-70B with params {'batch_size': 8} using HFInterface: There was a specific connection error when trying to load meta-llama/Llama-3.1-70B:\n",
      "401 Client Error: Unauthorized for url: https://huggingface.co/meta-llama/Llama-3.1-70B/resolve/main/model-00022-of-00030.safetensors (Request ID: Root=1-6803adab-654994f06cb465275fa0907a;40e5bbbe-2746-419e-8f41-e8c2012f4081)\n",
      "\n",
      "Invalid credentials in Authorization header. Skipping this combination.\n"
     ]
    },
    {
     "name": "stderr",
     "output_type": "stream",
     "text": [
      "\n"
     ]
    }
   ],
   "source": [
    "from src.logprobs import collect_logprobs\n",
    "\n",
    "try:\n",
    "    collect_logprobs(\n",
    "        \"data/data.json\",\n",
    "        models=[\n",
    "            \"meta-llama/Llama-3.1-70B\",\n",
    "        ],\n",
    "        model_params=[\n",
    "            {\"batch_size\": 8},\n",
    "        ],\n",
    "        model_provider=\"hf\",\n",
    "        param_mapping_strategy=\"combinations\",\n",
    "        save_results=True,\n",
    "        save_path=\"data/logprobs.csv\",\n",
    "        verbose=False,\n",
    "    )\n",
    "except Exception as e:\n",
    "    print(e)"
   ]
  },
  {
   "cell_type": "code",
   "execution_count": null,
   "metadata": {},
   "outputs": [],
   "source": [
    "from src.logprobs import collect_logprobs\n",
    "\n",
    "try:\n",
    "    collect_logprobs(\n",
    "        \"data/data.json\",\n",
    "        models=[\n",
    "            \"meta-llama/Llama-3.1-8B\",\n",
    "        ],\n",
    "        model_params=[\n",
    "            {\"batch_size\": 32},\n",
    "        ],\n",
    "        model_provider=\"hf\",\n",
    "        param_mapping_strategy=\"combinations\",\n",
    "        save_results=True,\n",
    "        save_path=\"data/logprobs.csv\",\n",
    "        verbose=False,\n",
    "    )\n",
    "except Exception as e:\n",
    "    print(e)"
   ]
  },
  {
   "cell_type": "code",
   "execution_count": null,
   "metadata": {},
   "outputs": [],
   "source": [
    "from src.logprobs import collect_logprobs\n",
    "\n",
    "try:\n",
    "    collect_logprobs(\n",
    "        \"data/data.json\",\n",
    "        models=[\n",
    "            \"meta-llama/Llama-3.2-3B\",\n",
    "            \"meta-llama/Llama-3.2-1B\",\n",
    "        ],\n",
    "        model_params=[\n",
    "            {\"batch_size\": 64},\n",
    "        ],\n",
    "        model_provider=\"hf\",\n",
    "        param_mapping_strategy=\"combinations\",\n",
    "        save_results=True,\n",
    "        save_path=\"data/logprobs.csv\",\n",
    "        verbose=False,\n",
    "    )\n",
    "except Exception as e:\n",
    "    print(e)"
   ]
  },
  {
   "cell_type": "code",
   "execution_count": null,
   "metadata": {},
   "outputs": [],
   "source": [
    "from src.logprobs import collect_logprobs\n",
    "\n",
    "try:\n",
    "    collect_logprobs(\n",
    "        \"data/data.json\",\n",
    "        models=[\n",
    "            \"openai-community/gpt2\",\n",
    "            \"openai-community/gpt2-medium\",\n",
    "            \"openai-community/gpt2-large\",\n",
    "            \"openai-community/gpt2-xl\",\n",
    "        ],\n",
    "        model_params=[\n",
    "            {\"batch_size\": 64},\n",
    "        ],\n",
    "        model_provider=\"hf\",\n",
    "        param_mapping_strategy=\"combinations\",\n",
    "        save_results=True,\n",
    "        save_path=\"data/logprobs.csv\",\n",
    "        verbose=False,\n",
    "    )\n",
    "except Exception as e:\n",
    "    print(e)"
   ]
  }
 ],
 "metadata": {
  "kernelspec": {
   "display_name": "Python 3",
   "language": "python",
   "name": "python3"
  },
  "language_info": {
   "codemirror_mode": {
    "name": "ipython",
    "version": 3
   },
   "file_extension": ".py",
   "mimetype": "text/x-python",
   "name": "python",
   "nbconvert_exporter": "python",
   "pygments_lexer": "ipython3",
   "version": "3.11.10"
  }
 },
 "nbformat": 4,
 "nbformat_minor": 2
}
