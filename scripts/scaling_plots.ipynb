{
 "cells": [
  {
   "cell_type": "code",
   "execution_count": 1,
   "metadata": {},
   "outputs": [
    {
     "ename": "MaxRowsError",
     "evalue": "The number of rows in your dataset is greater than the maximum allowed (5000).\n\nTry enabling the VegaFusion data transformer which raises this limit by pre-evaluating data\ntransformations in Python.\n    >> import altair as alt\n    >> alt.data_transformers.enable(\"vegafusion\")\n\nOr, see https://altair-viz.github.io/user_guide/large_datasets.html for additional information\non how to plot large datasets.",
     "output_type": "error",
     "traceback": [
      "\u001b[0;31m---------------------------------------------------------------------------\u001b[0m",
      "\u001b[0;31mMaxRowsError\u001b[0m                              Traceback (most recent call last)",
      "File \u001b[0;32m/usr/local/lib/python3.11/dist-packages/altair/vegalite/v5/api.py:1998\u001b[0m, in \u001b[0;36mTopLevelMixin.to_dict\u001b[0;34m(self, validate, format, ignore, context)\u001b[0m\n\u001b[1;32m   1995\u001b[0m     \u001b[38;5;28;01mexcept\u001b[39;00m \u001b[38;5;167;01mTypeError\u001b[39;00m:\n\u001b[1;32m   1996\u001b[0m         \u001b[38;5;66;03m# Non-narwhalifiable type supported by Altair, such as dict\u001b[39;00m\n\u001b[1;32m   1997\u001b[0m         data \u001b[38;5;241m=\u001b[39m original_data\n\u001b[0;32m-> 1998\u001b[0m     copy\u001b[38;5;241m.\u001b[39mdata \u001b[38;5;241m=\u001b[39m \u001b[43m_prepare_data\u001b[49m\u001b[43m(\u001b[49m\u001b[43mdata\u001b[49m\u001b[43m,\u001b[49m\u001b[43m \u001b[49m\u001b[43mcontext\u001b[49m\u001b[43m)\u001b[49m\n\u001b[1;32m   1999\u001b[0m     context[\u001b[38;5;124m\"\u001b[39m\u001b[38;5;124mdata\u001b[39m\u001b[38;5;124m\"\u001b[39m] \u001b[38;5;241m=\u001b[39m data\n\u001b[1;32m   2001\u001b[0m \u001b[38;5;66;03m# remaining to_dict calls are not at top level\u001b[39;00m\n",
      "File \u001b[0;32m/usr/local/lib/python3.11/dist-packages/altair/vegalite/v5/api.py:283\u001b[0m, in \u001b[0;36m_prepare_data\u001b[0;34m(data, context)\u001b[0m\n\u001b[1;32m    281\u001b[0m \u001b[38;5;28;01melif\u001b[39;00m \u001b[38;5;129;01mnot\u001b[39;00m \u001b[38;5;28misinstance\u001b[39m(data, \u001b[38;5;28mdict\u001b[39m) \u001b[38;5;129;01mand\u001b[39;00m _is_data_type(data):\n\u001b[1;32m    282\u001b[0m     \u001b[38;5;28;01mif\u001b[39;00m func \u001b[38;5;241m:=\u001b[39m data_transformers\u001b[38;5;241m.\u001b[39mget():\n\u001b[0;32m--> 283\u001b[0m         data \u001b[38;5;241m=\u001b[39m \u001b[43mfunc\u001b[49m\u001b[43m(\u001b[49m\u001b[43mnw\u001b[49m\u001b[38;5;241;43m.\u001b[39;49m\u001b[43mto_native\u001b[49m\u001b[43m(\u001b[49m\u001b[43mdata\u001b[49m\u001b[43m,\u001b[49m\u001b[43m \u001b[49m\u001b[43mpass_through\u001b[49m\u001b[38;5;241;43m=\u001b[39;49m\u001b[38;5;28;43;01mTrue\u001b[39;49;00m\u001b[43m)\u001b[49m\u001b[43m)\u001b[49m\n\u001b[1;32m    285\u001b[0m \u001b[38;5;66;03m# convert string input to a URLData\u001b[39;00m\n\u001b[1;32m    286\u001b[0m \u001b[38;5;28;01melif\u001b[39;00m \u001b[38;5;28misinstance\u001b[39m(data, \u001b[38;5;28mstr\u001b[39m):\n",
      "File \u001b[0;32m/usr/local/lib/python3.11/dist-packages/altair/vegalite/data.py:42\u001b[0m, in \u001b[0;36mdefault_data_transformer\u001b[0;34m(data, max_rows)\u001b[0m\n\u001b[1;32m     39\u001b[0m     \u001b[38;5;28;01mreturn\u001b[39;00m pipe\n\u001b[1;32m     41\u001b[0m \u001b[38;5;28;01melse\u001b[39;00m:\n\u001b[0;32m---> 42\u001b[0m     \u001b[38;5;28;01mreturn\u001b[39;00m to_values(\u001b[43mlimit_rows\u001b[49m\u001b[43m(\u001b[49m\u001b[43mdata\u001b[49m\u001b[43m,\u001b[49m\u001b[43m \u001b[49m\u001b[43mmax_rows\u001b[49m\u001b[38;5;241;43m=\u001b[39;49m\u001b[43mmax_rows\u001b[49m\u001b[43m)\u001b[49m)\n",
      "File \u001b[0;32m/usr/local/lib/python3.11/dist-packages/altair/utils/data.py:165\u001b[0m, in \u001b[0;36mlimit_rows\u001b[0;34m(data, max_rows)\u001b[0m\n\u001b[1;32m    162\u001b[0m     values \u001b[38;5;241m=\u001b[39m data\n\u001b[1;32m    164\u001b[0m \u001b[38;5;28;01mif\u001b[39;00m max_rows \u001b[38;5;129;01mis\u001b[39;00m \u001b[38;5;129;01mnot\u001b[39;00m \u001b[38;5;28;01mNone\u001b[39;00m \u001b[38;5;129;01mand\u001b[39;00m \u001b[38;5;28mlen\u001b[39m(values) \u001b[38;5;241m>\u001b[39m max_rows:\n\u001b[0;32m--> 165\u001b[0m     \u001b[43mraise_max_rows_error\u001b[49m\u001b[43m(\u001b[49m\u001b[43m)\u001b[49m\n\u001b[1;32m    167\u001b[0m \u001b[38;5;28;01mreturn\u001b[39;00m data\n",
      "File \u001b[0;32m/usr/local/lib/python3.11/dist-packages/altair/utils/data.py:148\u001b[0m, in \u001b[0;36mlimit_rows.<locals>.raise_max_rows_error\u001b[0;34m()\u001b[0m\n\u001b[1;32m    135\u001b[0m \u001b[38;5;28;01mdef\u001b[39;00m \u001b[38;5;21mraise_max_rows_error\u001b[39m():\n\u001b[1;32m    136\u001b[0m     msg \u001b[38;5;241m=\u001b[39m (\n\u001b[1;32m    137\u001b[0m         \u001b[38;5;124m\"\u001b[39m\u001b[38;5;124mThe number of rows in your dataset is greater \u001b[39m\u001b[38;5;124m\"\u001b[39m\n\u001b[1;32m    138\u001b[0m         \u001b[38;5;124mf\u001b[39m\u001b[38;5;124m\"\u001b[39m\u001b[38;5;124mthan the maximum allowed (\u001b[39m\u001b[38;5;132;01m{\u001b[39;00mmax_rows\u001b[38;5;132;01m}\u001b[39;00m\u001b[38;5;124m).\u001b[39m\u001b[38;5;130;01m\\n\u001b[39;00m\u001b[38;5;130;01m\\n\u001b[39;00m\u001b[38;5;124m\"\u001b[39m\n\u001b[0;32m   (...)\u001b[0m\n\u001b[1;32m    146\u001b[0m         \u001b[38;5;124m\"\u001b[39m\u001b[38;5;124mon how to plot large datasets.\u001b[39m\u001b[38;5;124m\"\u001b[39m\n\u001b[1;32m    147\u001b[0m     )\n\u001b[0;32m--> 148\u001b[0m     \u001b[38;5;28;01mraise\u001b[39;00m MaxRowsError(msg)\n",
      "\u001b[0;31mMaxRowsError\u001b[0m: The number of rows in your dataset is greater than the maximum allowed (5000).\n\nTry enabling the VegaFusion data transformer which raises this limit by pre-evaluating data\ntransformations in Python.\n    >> import altair as alt\n    >> alt.data_transformers.enable(\"vegafusion\")\n\nOr, see https://altair-viz.github.io/user_guide/large_datasets.html for additional information\non how to plot large datasets."
     ]
    },
    {
     "data": {
      "text/plain": [
       "alt.FacetChart(...)"
      ]
     },
     "metadata": {},
     "output_type": "display_data"
    }
   ],
   "source": [
    "from src.analyzer import LogprobAnalyzer, AnalysisConfig\n",
    "import pandas as pd\n",
    "import altair as alt\n",
    "alt.data_transformers.enable(\"vegafusion\")\n",
    "\n",
    "logprob_data_path = \"data/logprobs.csv\"\n",
    "analyzer = LogprobAnalyzer(logprob_data_path)\n",
    "\n",
    "analyzer.add_categorizer(\n",
    "    output_columns='model_family', # Explicit output name\n",
    "    source_columns=('model_name',),\n",
    "    categorizer=lambda model_name: model_name.split('/')[1].split('-')[0]\n",
    ")\n",
    "\n",
    "analyzer.add_categorizer(\n",
    "    output_columns='_bce_sum', # Explicit output name\n",
    "    source_columns=('prior_logprob', 'likelihood_logprob', 'posterior_logprob'),\n",
    "    categorizer=lambda p, l, post: p + l - post if pd.notna(p) and pd.notna(l) and pd.\n",
    "    notna(post) else pd.NA\n",
    ")\n",
    "\n",
    "analyzer.add_rename_mapping('model_family', {\n",
    "    'llama': 'Llama3',\n",
    "    'gpt2': 'GPT2',\n",
    "})\n",
    "\n",
    "analyzer.add_rename_mapping('model_name', {\n",
    "    'openai-community/gpt2': 'GPT-2-S',\n",
    "    'openai-community/gpt2-medium': 'GPT-2-M',\n",
    "    'openai-community/gpt2-large': 'GPT-2-L',\n",
    "    'openai-community/gpt2-xl': 'GPT-2-XL',\n",
    "    'meta-llama/Llama-3.2-1B': 'Llama3.2-1B',\n",
    "    'meta-llama/Llama-3.2-3B': 'Llama3.2-3B',\n",
    "    'meta-llama/Llama-3.1-8B': 'Llama3.1-8B',\n",
    "})\n",
    "\n",
    "# Set sort order using the *new* names\n",
    "analyzer.set_sort_order('model_name', ['GPT-2-S', 'GPT-2-M', 'GPT-2-L', 'GPT-2-XL', 'Llama3.2-1B', 'Llama3.2-3B', 'Llama3.1-8B'])\n",
    "\n",
    "# --- Plot 2: Pairwise MSE BCE ---\n",
    "config_mse = AnalysisConfig(\n",
    "    plot_fn=alt.Chart.mark_boxplot,\n",
    "    fig_title=\"BCE (Pairwise MSE method) by Model and Temperature\",\n",
    "    x_category='model_name:Q',\n",
    "    y_category='pairwise_bce_mse:Q',\n",
    "    facet_category='model_family:N',\n",
    "    tooltip_fields=[ # Using explicit tooltips\n",
    "        alt.Tooltip('model_name:N', title='Model'),\n",
    "        alt.Tooltip('model_family:N', title='Model Family'),\n",
    "        alt.Tooltip('mean(pairwise_bce_mse):Q', title='Mean BCE', format=\".3f\"),\n",
    "        alt.Tooltip(\"count():Q\", title=\"Count\", format=\"d\"),\n",
    "    ],\n",
    "    titles={\n",
    "        'pairwise_bce_mse': 'BCE (Pairwise MSE method)',\n",
    "        'model_name': 'Language Model',\n",
    "        'model_family': 'Model Family'\n",
    "    },\n",
    "    interactive_chart=False,\n",
    "    legend_config={\"orient\": \"top\"}\n",
    ")\n",
    "\n",
    "chart_mse = analyzer.visualize(\n",
    "    config=config_mse,\n",
    "    metric=pairwise_mse_of_group,\n",
    "    metric_name=\"pairwise_bce_mse\",\n",
    "    aggregate=True,\n",
    "    metric_kwargs={'value_col': '_bce_sum'} # Use metric_kwargs\n",
    ")\n",
    "chart_mse.show() # Display the chart"
   ]
  }
 ],
 "metadata": {
  "kernelspec": {
   "display_name": "Python 3",
   "language": "python",
   "name": "python3"
  },
  "language_info": {
   "codemirror_mode": {
    "name": "ipython",
    "version": 3
   },
   "file_extension": ".py",
   "mimetype": "text/x-python",
   "name": "python",
   "nbconvert_exporter": "python",
   "pygments_lexer": "ipython3",
   "version": "3.11.10"
  }
 },
 "nbformat": 4,
 "nbformat_minor": 2
}
